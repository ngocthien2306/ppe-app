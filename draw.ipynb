{
 "cells": [
  {
   "cell_type": "code",
   "execution_count": 19,
   "metadata": {},
   "outputs": [],
   "source": [
    "import cv2\n",
    "\n",
    "# Tạo một biến toàn cục để lưu trữ tọa độ của điểm bắt đầu và điểm kết thúc khi vẽ rectangle\n",
    "start_point = (-1, -1)\n",
    "end_point = (-1, -1)\n",
    "drawing = False\n",
    "\n",
    "def draw_rectangle(event, x, y, flags, param):\n",
    "    global start_point, end_point, drawing\n",
    "\n",
    "    if event == cv2.EVENT_LBUTTONDOWN:\n",
    "        start_point = (x, y)\n",
    "        end_point = (x, y)\n",
    "        drawing = True\n",
    "    elif event == cv2.EVENT_LBUTTONUP:\n",
    "        end_point = (x, y)\n",
    "        drawing = False\n",
    "        cv2.rectangle(img, start_point, end_point, (0, 255, 0), 2)\n",
    "        cv2.imshow('image', img)\n",
    "    elif event == cv2.EVENT_MOUSEMOVE:\n",
    "        if drawing:\n",
    "            end_point = (x, y)\n",
    "            temp_img = img.copy()\n",
    "            cv2.rectangle(temp_img, start_point, end_point, (0, 255, 0), 2)\n",
    "            cv2.imshow('image', temp_img)\n",
    "\n",
    "# Tạo một hình ảnh trắng\n",
    "img = cv2.imread('resize.jpg')\n",
    "img = cv2.resize(img, (582, 942))\n",
    "\n",
    "# Tạo cửa sổ và liên kết sự kiện chuột với hàm vẽ rectangle\n",
    "cv2.namedWindow('image')\n",
    "cv2.setMouseCallback('image', draw_rectangle)\n",
    "\n",
    "while True:\n",
    "    cv2.imshow('image', img)\n",
    "    key = cv2.waitKey(1) & 0xFF\n",
    "\n",
    "    if key == 27:  # Nhấn ESC để thoát\n",
    "        break\n",
    "\n",
    "cv2.destroyAllWindows()\n"
   ]
  },
  {
   "cell_type": "code",
   "execution_count": 20,
   "metadata": {},
   "outputs": [
    {
     "data": {
      "text/plain": [
       "((99, 130), (478, 621))"
      ]
     },
     "execution_count": 20,
     "metadata": {},
     "output_type": "execute_result"
    }
   ],
   "source": [
    "start_point, end_point"
   ]
  },
  {
   "cell_type": "code",
   "execution_count": 21,
   "metadata": {},
   "outputs": [],
   "source": [
    "def scale_coordinates(start_point, end_point, original_shape, target_shape):\n",
    "    # Original and target image dimensions\n",
    "    original_height, original_width, _ = original_shape\n",
    "    target_height, target_width, _ = target_shape\n",
    "\n",
    "    # Scale factors for width and height\n",
    "    scale_width = target_width / original_width\n",
    "    scale_height = target_height / original_height\n",
    "\n",
    "    # Scale the coordinates\n",
    "    scaled_start_point = (\n",
    "        int(start_point[0] * scale_width),\n",
    "        int(start_point[1] * scale_height)\n",
    "    )\n",
    "    scaled_end_point = (\n",
    "        int(end_point[0] * scale_width),\n",
    "        int(end_point[1] * scale_height)\n",
    "    )\n",
    "\n",
    "    return scaled_start_point, scaled_end_point"
   ]
  },
  {
   "cell_type": "code",
   "execution_count": 23,
   "metadata": {},
   "outputs": [
    {
     "name": "stdout",
     "output_type": "stream",
     "text": [
      "Scaled start_point: (179, 223)\n",
      "Scaled end_point: (867, 1069)\n"
     ]
    }
   ],
   "source": [
    "# Your image shape\n",
    "img_shape = (942, 582, 3) \n",
    "# Your target image shape\n",
    "target_shape = (1622, 1056, 3)\n",
    "# Your original start and end points\n",
    "start_point, end_point =((99, 130), (478, 621))\n",
    "\n",
    "# Scale the coordinates\n",
    "scaled_start_point, scaled_end_point = scale_coordinates(start_point, end_point, img_shape, target_shape)\n",
    "\n",
    "print(\"Scaled start_point:\", scaled_start_point)\n",
    "print(\"Scaled end_point:\", scaled_end_point)"
   ]
  },
  {
   "cell_type": "code",
   "execution_count": null,
   "metadata": {},
   "outputs": [],
   "source": []
  },
  {
   "cell_type": "code",
   "execution_count": 3,
   "metadata": {},
   "outputs": [],
   "source": [
    "import cv2\n",
    "\n",
    "def resize_image(image_path, scale_factor):\n",
    "    # Read the image\n",
    "    image = cv2.imread(image_path)\n",
    "\n",
    "    # Check if the image is successfully loaded\n",
    "    if image is not None:\n",
    "        # Get the original width and height\n",
    "        original_height, original_width = image.shape[:2]\n",
    "\n",
    "        # Resize the image with an alpha > 1\n",
    "        resized_image = cv2.resize(image, (int(original_width * scale_factor), int(original_height * scale_factor)))\n",
    "\n",
    "        # Display the original and resized images (optional)\n",
    "        cv2.imshow(\"Original Image\", image)\n",
    "        cv2.imshow(\"Resized Image\", resized_image)\n",
    "        cv2.waitKey(0)\n",
    "        cv2.destroyAllWindows()\n",
    "\n",
    "        return resized_image\n",
    "    else:\n",
    "        print(\"Error: Unable to read the image.\")\n",
    "        return None\n",
    "\n",
    "# Specify the path to the image\n",
    "image_path = \"test_2.jpg\"  # Replace with the actual path to your image file\n",
    "\n",
    "# Specify the scale factor for resizing (alpha > 1)\n",
    "scale_factor = 2.0  # Replace with your desired scaling factor\n",
    "\n",
    "# Resize the image\n",
    "resized_image = resize_image(image_path, scale_factor)\n"
   ]
  },
  {
   "cell_type": "code",
   "execution_count": 4,
   "metadata": {},
   "outputs": [
    {
     "data": {
      "text/plain": [
       "(1440, 2560, 3)"
      ]
     },
     "execution_count": 4,
     "metadata": {},
     "output_type": "execute_result"
    }
   ],
   "source": [
    "resized_image.shape"
   ]
  },
  {
   "cell_type": "code",
   "execution_count": 5,
   "metadata": {},
   "outputs": [],
   "source": [
    "import cv2\n",
    "\n",
    "def resize_image(image_path, target_height):\n",
    "    # Read the image\n",
    "    image = cv2.imread(image_path)\n",
    "\n",
    "    # Check if the image is successfully loaded\n",
    "    if image is not None:\n",
    "        # Get the original width and height\n",
    "        original_height, original_width = image.shape[:2]\n",
    "\n",
    "        # Calculate the scaling factor based on the target height\n",
    "        scale_factor = target_height / original_height\n",
    "\n",
    "        # Resize the image\n",
    "        resized_image = cv2.resize(image, (int(original_width * scale_factor), target_height))\n",
    "\n",
    "        # Display the original and resized images (optional)\n",
    "        cv2.imshow(\"Original Image\", image)\n",
    "        cv2.imshow(\"Resized Image\", resized_image)\n",
    "        cv2.waitKey(0)\n",
    "        cv2.destroyAllWindows()\n",
    "\n",
    "        return resized_image\n",
    "    else:\n",
    "        print(\"Error: Unable to read the image.\")\n",
    "        return None\n",
    "\n",
    "# Specify the path to the image\n",
    "image_path = \"test_2.jpg\"  # Replace with the actual path to your image file\n",
    "\n",
    "# Specify the target height for resizing\n",
    "target_height = 1622  # Replace with your desired height\n",
    "\n",
    "# Resize the image\n",
    "resized_image = resize_image(image_path, target_height)\n"
   ]
  },
  {
   "cell_type": "code",
   "execution_count": 7,
   "metadata": {},
   "outputs": [],
   "source": [
    "\n",
    "def center_crop(img, dim):\n",
    "\t\"\"\"Returns center cropped image\n",
    "\tArgs:\n",
    "\timg: image to be center cropped\n",
    "\tdim: dimensions (height, width) to be cropped\n",
    "\t\"\"\"\n",
    "\twidth, height = img.shape[1], img.shape[0]\n",
    "\n",
    "\t# process crop width and height for max available dimension\n",
    "\tcrop_width = dim[0] if dim[0]<img.shape[1] else img.shape[1]\n",
    "\tcrop_height = dim[1] if dim[1]<img.shape[0] else img.shape[0] \n",
    "\tmid_x, mid_y = int(width/2), int(height/2)\n",
    "\tcw2, ch2 = int(crop_width/2), int(crop_height/2) \n",
    "\tcrop_img = img[mid_y-ch2:mid_y+ch2, mid_x-cw2:mid_x+cw2]\n",
    "    \n",
    "\treturn crop_img"
   ]
  },
  {
   "cell_type": "code",
   "execution_count": 8,
   "metadata": {},
   "outputs": [],
   "source": [
    "resized_image_new = center_crop(resized_image, (1056, 1622))"
   ]
  },
  {
   "cell_type": "code",
   "execution_count": 6,
   "metadata": {},
   "outputs": [
    {
     "data": {
      "text/plain": [
       "(1622, 2883, 3)"
      ]
     },
     "execution_count": 6,
     "metadata": {},
     "output_type": "execute_result"
    }
   ],
   "source": [
    "resized_image.shape"
   ]
  },
  {
   "cell_type": "code",
   "execution_count": 9,
   "metadata": {},
   "outputs": [
    {
     "data": {
      "text/plain": [
       "(1622, 1056, 3)"
      ]
     },
     "execution_count": 9,
     "metadata": {},
     "output_type": "execute_result"
    }
   ],
   "source": [
    "resized_image_new.shape"
   ]
  },
  {
   "cell_type": "code",
   "execution_count": 10,
   "metadata": {},
   "outputs": [],
   "source": [
    "cv2.imshow(\"Image\", resized_image_new)\n",
    "cv2.waitKey(0)\n",
    "cv2.destroyAllWindows()"
   ]
  },
  {
   "cell_type": "code",
   "execution_count": 11,
   "metadata": {},
   "outputs": [
    {
     "data": {
      "text/plain": [
       "True"
      ]
     },
     "execution_count": 11,
     "metadata": {},
     "output_type": "execute_result"
    }
   ],
   "source": [
    "cv2.imwrite(\"resize.jpg\", resized_image_new)"
   ]
  }
 ],
 "metadata": {
  "kernelspec": {
   "display_name": "ppe-env",
   "language": "python",
   "name": "python3"
  },
  "language_info": {
   "codemirror_mode": {
    "name": "ipython",
    "version": 3
   },
   "file_extension": ".py",
   "mimetype": "text/x-python",
   "name": "python",
   "nbconvert_exporter": "python",
   "pygments_lexer": "ipython3",
   "version": "3.8.10"
  }
 },
 "nbformat": 4,
 "nbformat_minor": 2
}
